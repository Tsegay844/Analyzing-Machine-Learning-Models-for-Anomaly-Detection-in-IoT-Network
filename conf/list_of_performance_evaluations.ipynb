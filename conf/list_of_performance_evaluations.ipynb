{
 "cells": [
  {
   "cell_type": "markdown",
   "id": "edb126e7",
   "metadata": {},
   "source": [
    "##  Performance Evaluation for each model\n",
    "- [Performace Evaluation for Model-1](../models/Model-1-SMOTE&Outlier.ipynb#4-Model-Selection-and-Performance-Evaluation)\n",
    "- [Performance Evaluation for Model-2](../models/Model-2-SMOTE&Outlier&Correlation.ipynb#4-Model-Selection-and-Performance-Evaluation)\n",
    "- [Performance Evaluation for Model-3](../models/Model-3-SMOTE&Outlier&Correlation&PCA.ipynb#4-Model-Selection-and-Performance-Evaluation)"
   ]
  },
  {
   "cell_type": "markdown",
   "id": "8c7e31ca",
   "metadata": {},
   "source": [
    "\n",
    "\n",
    "<br><br><br><br><br><br><br><br><br><br><br><br><br><br><br><br><br><br><br><br><br><br><br><br><br><br><br><br><br><br><br><br><br><br><br><br><br><br><br><br><br><br><br><br><br><br><br><br><br><br><br><br><br><br><br><br><br><br><br><br><br><br><br><br><br><br><br><br><br><br><br><br><br><br><br><br><br><br><br><br><br><br><br><br><br><br><br><br><br><br><br><br><br><br><br><br><br><br><br><br><br><br><br><br><br><br><br><br><br><br><br><br><br><br><br><br><br><br><br><br><br><br><br><br><br><br><br><br><br><br><br><br><br><br><br><br><br><br><br><br><br><br><br><br><br><br><br><br><br><br><br><br><br><br><br><br><br><br><br><br><br><br><br><br><br><br><br><br><br><br><br><br><br><br><br><br><br><br><br><br><br><br><br><br><br><br>"
   ]
  },
  {
   "cell_type": "markdown",
   "id": "0645ad7a",
   "metadata": {},
   "source": []
  },
  {
   "cell_type": "markdown",
   "id": "a40b3f61",
   "metadata": {},
   "source": []
  },
  {
   "cell_type": "markdown",
   "id": "4390d70b",
   "metadata": {},
   "source": []
  },
  {
   "cell_type": "markdown",
   "id": "9dd1d988",
   "metadata": {},
   "source": []
  },
  {
   "cell_type": "markdown",
   "id": "f6509a15",
   "metadata": {},
   "source": []
  },
  {
   "cell_type": "markdown",
   "id": "4df2c1e9",
   "metadata": {},
   "source": []
  },
  {
   "cell_type": "markdown",
   "id": "0331491a",
   "metadata": {},
   "source": []
  },
  {
   "cell_type": "markdown",
   "id": "77cfbec1",
   "metadata": {},
   "source": []
  },
  {
   "cell_type": "code",
   "execution_count": 2,
   "id": "81d2011f",
   "metadata": {},
   "outputs": [
    {
     "data": {
      "application/javascript": [
       "\n",
       "document.querySelectorAll('a').forEach(link => {\n",
       "    link.setAttribute('target', '_self');\n",
       "});\n"
      ],
      "text/plain": [
       "<IPython.core.display.Javascript object>"
      ]
     },
     "metadata": {},
     "output_type": "display_data"
    }
   ],
   "source": [
    "from IPython.display import display, Javascript\n",
    "\n",
    "js_code = '''\n",
    "document.querySelectorAll('a').forEach(link => {\n",
    "    link.setAttribute('target', '_self');\n",
    "});\n",
    "'''\n",
    "\n",
    "display(Javascript(js_code))"
   ]
  },
  {
   "cell_type": "code",
   "execution_count": null,
   "id": "146b31f4",
   "metadata": {},
   "outputs": [],
   "source": []
  }
 ],
 "metadata": {
  "kernelspec": {
   "display_name": "Python 3 (ipykernel)",
   "language": "python",
   "name": "python3"
  },
  "language_info": {
   "codemirror_mode": {
    "name": "ipython",
    "version": 3
   },
   "file_extension": ".py",
   "mimetype": "text/x-python",
   "name": "python",
   "nbconvert_exporter": "python",
   "pygments_lexer": "ipython3",
   "version": "3.11.5"
  },
  "varInspector": {
   "cols": {
    "lenName": 16,
    "lenType": 16,
    "lenVar": 40
   },
   "kernels_config": {
    "python": {
     "delete_cmd_postfix": "",
     "delete_cmd_prefix": "del ",
     "library": "var_list.py",
     "varRefreshCmd": "print(var_dic_list())"
    },
    "r": {
     "delete_cmd_postfix": ") ",
     "delete_cmd_prefix": "rm(",
     "library": "var_list.r",
     "varRefreshCmd": "cat(var_dic_list()) "
    }
   },
   "types_to_exclude": [
    "module",
    "function",
    "builtin_function_or_method",
    "instance",
    "_Feature"
   ],
   "window_display": false
  }
 },
 "nbformat": 4,
 "nbformat_minor": 5
}

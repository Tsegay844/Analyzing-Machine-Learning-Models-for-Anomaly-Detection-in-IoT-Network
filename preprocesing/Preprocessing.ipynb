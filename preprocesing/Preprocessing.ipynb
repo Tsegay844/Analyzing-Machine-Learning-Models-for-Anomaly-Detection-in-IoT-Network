{
 "cells": [
  {
   "cell_type": "markdown",
   "id": "9ebf9d4c",
   "metadata": {},
   "source": [
    "# 2. Data Preprocessing\n",
    "\n",
    "### Table of Contents\n",
    "- [Importing Packages](#Importing-Packages)\n",
    "- [Loading the Dataset](#Loading-the-Dataset)\n",
    "- [Data Cleaning:](#Data-Cleaning)\n",
    "  - [Handling Missing Values](#Handling-Missing-Values)\n",
    "  - [Removing Duplicates](#Duplication-Removal)\n",
    "  - [Detecting and Treating Outliers Using LOF](#Detecting-and-Treating-Outliers-using-LOF)\n",
    "- [Creating Features](#Feature-Creation)\n",
    "- [Encoding Data](#Encoding-Data)\n",
    "- [Reducing Features Based on:](#Dimensionality-Reduction)\n",
    "  - [Correlation Analysis](#Feature-Reduction-based-on-Correation-Analysis)\n",
    "  - [Principal Component Analysis (PCA)](#Principal-Component-Analysis(PCA))\n",
    "- [Splitting Data into Features and Target](#Splitting-Data-into-Features-and-Target)\n",
    "- [Splitting Dataset into Training and Test Sets](#Splitting-Dataset-into-Training-and-Test-Sets)\n",
    "- [Balancing Training Data Using SMOTE](#Balancing-Training-Data-using-SMOTE)"
   ]
  },
  {
   "cell_type": "markdown",
   "id": "b638164e",
   "metadata": {},
   "source": [
    "###  Navigation\n",
    "- [Table of Contents](../Table_of_contents.ipynb)\n",
    "- [Data Preparation and Exploration](../Data_exploration/Data_Exploration.ipynb)\n",
    "- [Data Preprocessing](#2.-Data-Preprocessing)\n",
    "- [Model Development](../conf/list_of_models.ipynb)\n",
    "- [Model Selection and Performance Evaluation](../conf/list_of_performance_evaluations.ipynb)"
   ]
  },
  {
   "cell_type": "markdown",
   "id": "d2b54072",
   "metadata": {
    "scrolled": true
   },
   "source": [
    "#### Importing Packages"
   ]
  },
  {
   "cell_type": "code",
   "execution_count": 3,
   "id": "1a6738cd",
   "metadata": {},
   "outputs": [],
   "source": [
    "import os  # Import the OS module for operating system dependent functionality\n",
    "import numpy as np  # package for numerical analysis\n",
    "import pandas as pd  # package for data manipulation and analysis\n",
    "from matplotlib import pyplot as plt  # pyplot module for plotting\n",
    "import seaborn as sns  # package for statistical data visualization\n",
    "from sklearn.model_selection import train_test_split #package for splitting tranind and testing sets\n",
    "from sklearn.preprocessing import StandardScaler #package for feature scaling\n",
    "from sklearn.decomposition import PCA # packge for for Principal Component Analysis\n",
    "from sklearn.neighbors import LocalOutlierFactor # packages  for outlier detection\n",
    "from imblearn.over_sampling import SMOTE  # SMOTE packege from imbalanced-learn for balancing the dataset"
   ]
  },
  {
   "cell_type": "markdown",
   "id": "3346e173",
   "metadata": {},
   "source": [
    "##### Load the Dataset"
   ]
  },
  {
   "cell_type": "markdown",
   "id": "f7009074",
   "metadata": {},
   "source": [
    " Load dataset into a df dataframe\n",
    " - The path to the dataset is specified by `data_path`\n",
    " - `pd.read_csv` reads CSV formated dataset into a Pandas(pd) dataframe"
   ]
  },
  {
   "cell_type": "code",
   "execution_count": 37,
   "id": "1dfed836",
   "metadata": {},
   "outputs": [],
   "source": [
    "#path to the dataset directory in the project\n",
    "data_path = '../dataset/RT_IOT2022'\n",
    "df = pd.read_csv(data_path, na_values=\"?\")"
   ]
  },
  {
   "cell_type": "markdown",
   "id": "ae830dad",
   "metadata": {},
   "source": [
    "### Data Cleaning"
   ]
  },
  {
   "cell_type": "markdown",
   "id": "b830faf5",
   "metadata": {},
   "source": [
    "###### Handling Missing Values"
   ]
  },
  {
   "cell_type": "code",
   "execution_count": 38,
   "id": "653da86e",
   "metadata": {},
   "outputs": [
    {
     "name": "stdout",
     "output_type": "stream",
     "text": [
      "No Missing value found\n",
      "Data is Clean of NA.\n",
      "Data Shape: (123117, 85)\n"
     ]
    }
   ],
   "source": [
    "#cheking missing value\n",
    "missing_value_count = df.isnull() .sum()\n",
    "if missing_value_count.any():\n",
    "    print(\"colum missing value: \" + missing_value_countng )    \n",
    "else:\n",
    "    print(\"No Missing value found\")\n",
    "    \n",
    "#checking is NA value is available, because NA is not usefull in the model formation. it is better if we handle NA as missing value   \n",
    "NA_value_count = df.isna().sum()\n",
    "if NA_value_count.any():\n",
    "    print(\"Data contains Null: \" + NA_value_countng )    \n",
    "else:\n",
    "    print(\"Data is Clean of NA.\")           \n",
    "print(\"Data Shape:\", df.shape)\n"
   ]
  },
  {
   "cell_type": "markdown",
   "id": "810c312d",
   "metadata": {},
   "source": [
    "#### Duplication Removal"
   ]
  },
  {
   "cell_type": "code",
   "execution_count": 39,
   "id": "3c35fa82",
   "metadata": {},
   "outputs": [
    {
     "name": "stdout",
     "output_type": "stream",
     "text": [
      "DataFrame after removing duplicates: (123117, 85)\n"
     ]
    }
   ],
   "source": [
    "# Removing duplicated rows from dataframe df\n",
    "df.drop_duplicates(inplace=True)\n",
    "print(\"DataFrame after removing duplicates:\", df.shape)"
   ]
  },
  {
   "cell_type": "markdown",
   "id": "525085d2",
   "metadata": {},
   "source": [
    "##### Detecting and Treating Outliers using LOF\n",
    "\n",
    "LOF relies on distance calculations, which means it doesn't directly apply to categorical attributes. Therefore, I drop the categorical attributes before applying LOF. Additionally, the LOF threshold is adjusted by tuning the percentile and Z-score thresholds (calculated using standard deviation from the mean). This helps control the sensitivity of outlier detection."
   ]
  },
  {
   "cell_type": "code",
   "execution_count": 40,
   "id": "b906db44",
   "metadata": {},
   "outputs": [
    {
     "name": "stdout",
     "output_type": "stream",
     "text": [
      "99th percentile threshold: 3.790419692288382\n",
      "Z-score threshold (0.5 std deviations): 3.5579150656150347\n",
      "Final chosen threshold: 3.5579150656150347\n",
      "Number of outliers detected: 1337\n"
     ]
    }
   ],
   "source": [
    "#droping categorical features to apply LOF \n",
    "df_cleaned = df.drop(columns=['proto', 'service', 'Attack_type'])\n",
    "\n",
    "#Apply LOF (Local Outlier Factor)\n",
    "lof = LocalOutlierFactor(n_neighbors=20, contamination=0.1)\n",
    "lof_scores = lof.fit_predict(df_cleaned)\n",
    "lof_scores = -lof.negative_outlier_factor_\n",
    "\n",
    "# appending LOF scores to the original data for reference\n",
    "df['LOF_score'] = lof_scores\n",
    "\n",
    "# calculating thresholds using both percentile based and Z-score\n",
    "# Percentile-based threshold\n",
    "percentile_threshold = np.percentile(df['LOF_score'], 99)\n",
    "print(f\"99th percentile threshold: {percentile_threshold}\")\n",
    "\n",
    "# Z-score threshold\n",
    "mean_lof = df['LOF_score'].mean()\n",
    "std_lof = df['LOF_score'].std()\n",
    "z_score_threshold = mean_lof + 0.5 * std_lof\n",
    "print(f\"Z-score threshold (0.5 std deviations): {z_score_threshold}\")\n",
    "\n",
    "# Choose the lower of the two thresholds for a conservative approach\n",
    "final_threshold = min(percentile_threshold, z_score_threshold)\n",
    "print(f\"Final chosen threshold: {final_threshold}\")\n",
    "\n",
    "# Identifying outliers based on the final threshold\n",
    "df['Outlier'] = df['LOF_score'] > final_threshold\n",
    "\n",
    "# Filter out the outliers\n",
    "df_outlier_free = df[~df['Outlier']].drop(columns=['LOF_score', 'Outlier'])\n",
    "\n",
    "# Print and save the results\n",
    "outliers = df[df['Outlier']]\n",
    "print(\"Number of outliers detected:\", outliers.shape[0])\n",
    "#print(\"\\nOutliers detected:\\n\", outliers)"
   ]
  },
  {
   "cell_type": "code",
   "execution_count": 41,
   "id": "0de08155",
   "metadata": {},
   "outputs": [
    {
     "data": {
      "text/html": [
       "<div>\n",
       "<style scoped>\n",
       "    .dataframe tbody tr th:only-of-type {\n",
       "        vertical-align: middle;\n",
       "    }\n",
       "\n",
       "    .dataframe tbody tr th {\n",
       "        vertical-align: top;\n",
       "    }\n",
       "\n",
       "    .dataframe thead th {\n",
       "        text-align: right;\n",
       "    }\n",
       "</style>\n",
       "<table border=\"1\" class=\"dataframe\">\n",
       "  <thead>\n",
       "    <tr style=\"text-align: right;\">\n",
       "      <th></th>\n",
       "      <th>Unnamed: 0</th>\n",
       "      <th>id.orig_p</th>\n",
       "      <th>id.resp_p</th>\n",
       "      <th>proto</th>\n",
       "      <th>service</th>\n",
       "      <th>flow_duration</th>\n",
       "      <th>fwd_pkts_tot</th>\n",
       "      <th>bwd_pkts_tot</th>\n",
       "      <th>fwd_data_pkts_tot</th>\n",
       "      <th>bwd_data_pkts_tot</th>\n",
       "      <th>...</th>\n",
       "      <th>active.std</th>\n",
       "      <th>idle.min</th>\n",
       "      <th>idle.max</th>\n",
       "      <th>idle.tot</th>\n",
       "      <th>idle.avg</th>\n",
       "      <th>idle.std</th>\n",
       "      <th>fwd_init_window_size</th>\n",
       "      <th>bwd_init_window_size</th>\n",
       "      <th>fwd_last_window_size</th>\n",
       "      <th>Attack_type</th>\n",
       "    </tr>\n",
       "  </thead>\n",
       "  <tbody>\n",
       "    <tr>\n",
       "      <th>0</th>\n",
       "      <td>0</td>\n",
       "      <td>38667</td>\n",
       "      <td>1883</td>\n",
       "      <td>tcp</td>\n",
       "      <td>mqtt</td>\n",
       "      <td>32.011598</td>\n",
       "      <td>9</td>\n",
       "      <td>5</td>\n",
       "      <td>3</td>\n",
       "      <td>3</td>\n",
       "      <td>...</td>\n",
       "      <td>0.0</td>\n",
       "      <td>2.972918e+07</td>\n",
       "      <td>2.972918e+07</td>\n",
       "      <td>2.972918e+07</td>\n",
       "      <td>2.972918e+07</td>\n",
       "      <td>0.0</td>\n",
       "      <td>64240</td>\n",
       "      <td>26847</td>\n",
       "      <td>502</td>\n",
       "      <td>MQTT_Publish</td>\n",
       "    </tr>\n",
       "    <tr>\n",
       "      <th>1</th>\n",
       "      <td>1</td>\n",
       "      <td>51143</td>\n",
       "      <td>1883</td>\n",
       "      <td>tcp</td>\n",
       "      <td>mqtt</td>\n",
       "      <td>31.883584</td>\n",
       "      <td>9</td>\n",
       "      <td>5</td>\n",
       "      <td>3</td>\n",
       "      <td>3</td>\n",
       "      <td>...</td>\n",
       "      <td>0.0</td>\n",
       "      <td>2.985528e+07</td>\n",
       "      <td>2.985528e+07</td>\n",
       "      <td>2.985528e+07</td>\n",
       "      <td>2.985528e+07</td>\n",
       "      <td>0.0</td>\n",
       "      <td>64240</td>\n",
       "      <td>26847</td>\n",
       "      <td>502</td>\n",
       "      <td>MQTT_Publish</td>\n",
       "    </tr>\n",
       "    <tr>\n",
       "      <th>2</th>\n",
       "      <td>2</td>\n",
       "      <td>44761</td>\n",
       "      <td>1883</td>\n",
       "      <td>tcp</td>\n",
       "      <td>mqtt</td>\n",
       "      <td>32.124053</td>\n",
       "      <td>9</td>\n",
       "      <td>5</td>\n",
       "      <td>3</td>\n",
       "      <td>3</td>\n",
       "      <td>...</td>\n",
       "      <td>0.0</td>\n",
       "      <td>2.984215e+07</td>\n",
       "      <td>2.984215e+07</td>\n",
       "      <td>2.984215e+07</td>\n",
       "      <td>2.984215e+07</td>\n",
       "      <td>0.0</td>\n",
       "      <td>64240</td>\n",
       "      <td>26847</td>\n",
       "      <td>502</td>\n",
       "      <td>MQTT_Publish</td>\n",
       "    </tr>\n",
       "    <tr>\n",
       "      <th>3</th>\n",
       "      <td>3</td>\n",
       "      <td>60893</td>\n",
       "      <td>1883</td>\n",
       "      <td>tcp</td>\n",
       "      <td>mqtt</td>\n",
       "      <td>31.961063</td>\n",
       "      <td>9</td>\n",
       "      <td>5</td>\n",
       "      <td>3</td>\n",
       "      <td>3</td>\n",
       "      <td>...</td>\n",
       "      <td>0.0</td>\n",
       "      <td>2.991377e+07</td>\n",
       "      <td>2.991377e+07</td>\n",
       "      <td>2.991377e+07</td>\n",
       "      <td>2.991377e+07</td>\n",
       "      <td>0.0</td>\n",
       "      <td>64240</td>\n",
       "      <td>26847</td>\n",
       "      <td>502</td>\n",
       "      <td>MQTT_Publish</td>\n",
       "    </tr>\n",
       "    <tr>\n",
       "      <th>4</th>\n",
       "      <td>4</td>\n",
       "      <td>51087</td>\n",
       "      <td>1883</td>\n",
       "      <td>tcp</td>\n",
       "      <td>mqtt</td>\n",
       "      <td>31.902362</td>\n",
       "      <td>9</td>\n",
       "      <td>5</td>\n",
       "      <td>3</td>\n",
       "      <td>3</td>\n",
       "      <td>...</td>\n",
       "      <td>0.0</td>\n",
       "      <td>2.981470e+07</td>\n",
       "      <td>2.981470e+07</td>\n",
       "      <td>2.981470e+07</td>\n",
       "      <td>2.981470e+07</td>\n",
       "      <td>0.0</td>\n",
       "      <td>64240</td>\n",
       "      <td>26847</td>\n",
       "      <td>502</td>\n",
       "      <td>MQTT_Publish</td>\n",
       "    </tr>\n",
       "    <tr>\n",
       "      <th>...</th>\n",
       "      <td>...</td>\n",
       "      <td>...</td>\n",
       "      <td>...</td>\n",
       "      <td>...</td>\n",
       "      <td>...</td>\n",
       "      <td>...</td>\n",
       "      <td>...</td>\n",
       "      <td>...</td>\n",
       "      <td>...</td>\n",
       "      <td>...</td>\n",
       "      <td>...</td>\n",
       "      <td>...</td>\n",
       "      <td>...</td>\n",
       "      <td>...</td>\n",
       "      <td>...</td>\n",
       "      <td>...</td>\n",
       "      <td>...</td>\n",
       "      <td>...</td>\n",
       "      <td>...</td>\n",
       "      <td>...</td>\n",
       "      <td>...</td>\n",
       "    </tr>\n",
       "    <tr>\n",
       "      <th>123112</th>\n",
       "      <td>2005</td>\n",
       "      <td>59247</td>\n",
       "      <td>63331</td>\n",
       "      <td>tcp</td>\n",
       "      <td>-</td>\n",
       "      <td>0.000006</td>\n",
       "      <td>1</td>\n",
       "      <td>1</td>\n",
       "      <td>0</td>\n",
       "      <td>0</td>\n",
       "      <td>...</td>\n",
       "      <td>0.0</td>\n",
       "      <td>0.000000e+00</td>\n",
       "      <td>0.000000e+00</td>\n",
       "      <td>0.000000e+00</td>\n",
       "      <td>0.000000e+00</td>\n",
       "      <td>0.0</td>\n",
       "      <td>1024</td>\n",
       "      <td>0</td>\n",
       "      <td>1024</td>\n",
       "      <td>NMAP_XMAS_TREE_SCAN</td>\n",
       "    </tr>\n",
       "    <tr>\n",
       "      <th>123113</th>\n",
       "      <td>2006</td>\n",
       "      <td>59247</td>\n",
       "      <td>64623</td>\n",
       "      <td>tcp</td>\n",
       "      <td>-</td>\n",
       "      <td>0.000007</td>\n",
       "      <td>1</td>\n",
       "      <td>1</td>\n",
       "      <td>0</td>\n",
       "      <td>0</td>\n",
       "      <td>...</td>\n",
       "      <td>0.0</td>\n",
       "      <td>0.000000e+00</td>\n",
       "      <td>0.000000e+00</td>\n",
       "      <td>0.000000e+00</td>\n",
       "      <td>0.000000e+00</td>\n",
       "      <td>0.0</td>\n",
       "      <td>1024</td>\n",
       "      <td>0</td>\n",
       "      <td>1024</td>\n",
       "      <td>NMAP_XMAS_TREE_SCAN</td>\n",
       "    </tr>\n",
       "    <tr>\n",
       "      <th>123114</th>\n",
       "      <td>2007</td>\n",
       "      <td>59247</td>\n",
       "      <td>64680</td>\n",
       "      <td>tcp</td>\n",
       "      <td>-</td>\n",
       "      <td>0.000006</td>\n",
       "      <td>1</td>\n",
       "      <td>1</td>\n",
       "      <td>0</td>\n",
       "      <td>0</td>\n",
       "      <td>...</td>\n",
       "      <td>0.0</td>\n",
       "      <td>0.000000e+00</td>\n",
       "      <td>0.000000e+00</td>\n",
       "      <td>0.000000e+00</td>\n",
       "      <td>0.000000e+00</td>\n",
       "      <td>0.0</td>\n",
       "      <td>1024</td>\n",
       "      <td>0</td>\n",
       "      <td>1024</td>\n",
       "      <td>NMAP_XMAS_TREE_SCAN</td>\n",
       "    </tr>\n",
       "    <tr>\n",
       "      <th>123115</th>\n",
       "      <td>2008</td>\n",
       "      <td>59247</td>\n",
       "      <td>65000</td>\n",
       "      <td>tcp</td>\n",
       "      <td>-</td>\n",
       "      <td>0.000006</td>\n",
       "      <td>1</td>\n",
       "      <td>1</td>\n",
       "      <td>0</td>\n",
       "      <td>0</td>\n",
       "      <td>...</td>\n",
       "      <td>0.0</td>\n",
       "      <td>0.000000e+00</td>\n",
       "      <td>0.000000e+00</td>\n",
       "      <td>0.000000e+00</td>\n",
       "      <td>0.000000e+00</td>\n",
       "      <td>0.0</td>\n",
       "      <td>1024</td>\n",
       "      <td>0</td>\n",
       "      <td>1024</td>\n",
       "      <td>NMAP_XMAS_TREE_SCAN</td>\n",
       "    </tr>\n",
       "    <tr>\n",
       "      <th>123116</th>\n",
       "      <td>2009</td>\n",
       "      <td>59247</td>\n",
       "      <td>65129</td>\n",
       "      <td>tcp</td>\n",
       "      <td>-</td>\n",
       "      <td>0.000006</td>\n",
       "      <td>1</td>\n",
       "      <td>1</td>\n",
       "      <td>0</td>\n",
       "      <td>0</td>\n",
       "      <td>...</td>\n",
       "      <td>0.0</td>\n",
       "      <td>0.000000e+00</td>\n",
       "      <td>0.000000e+00</td>\n",
       "      <td>0.000000e+00</td>\n",
       "      <td>0.000000e+00</td>\n",
       "      <td>0.0</td>\n",
       "      <td>1024</td>\n",
       "      <td>0</td>\n",
       "      <td>1024</td>\n",
       "      <td>NMAP_XMAS_TREE_SCAN</td>\n",
       "    </tr>\n",
       "  </tbody>\n",
       "</table>\n",
       "<p>121780 rows × 85 columns</p>\n",
       "</div>"
      ],
      "text/plain": [
       "        Unnamed: 0  id.orig_p  id.resp_p proto service  flow_duration  \\\n",
       "0                0      38667       1883   tcp    mqtt      32.011598   \n",
       "1                1      51143       1883   tcp    mqtt      31.883584   \n",
       "2                2      44761       1883   tcp    mqtt      32.124053   \n",
       "3                3      60893       1883   tcp    mqtt      31.961063   \n",
       "4                4      51087       1883   tcp    mqtt      31.902362   \n",
       "...            ...        ...        ...   ...     ...            ...   \n",
       "123112        2005      59247      63331   tcp       -       0.000006   \n",
       "123113        2006      59247      64623   tcp       -       0.000007   \n",
       "123114        2007      59247      64680   tcp       -       0.000006   \n",
       "123115        2008      59247      65000   tcp       -       0.000006   \n",
       "123116        2009      59247      65129   tcp       -       0.000006   \n",
       "\n",
       "        fwd_pkts_tot  bwd_pkts_tot  fwd_data_pkts_tot  bwd_data_pkts_tot  ...  \\\n",
       "0                  9             5                  3                  3  ...   \n",
       "1                  9             5                  3                  3  ...   \n",
       "2                  9             5                  3                  3  ...   \n",
       "3                  9             5                  3                  3  ...   \n",
       "4                  9             5                  3                  3  ...   \n",
       "...              ...           ...                ...                ...  ...   \n",
       "123112             1             1                  0                  0  ...   \n",
       "123113             1             1                  0                  0  ...   \n",
       "123114             1             1                  0                  0  ...   \n",
       "123115             1             1                  0                  0  ...   \n",
       "123116             1             1                  0                  0  ...   \n",
       "\n",
       "        active.std      idle.min      idle.max      idle.tot      idle.avg  \\\n",
       "0              0.0  2.972918e+07  2.972918e+07  2.972918e+07  2.972918e+07   \n",
       "1              0.0  2.985528e+07  2.985528e+07  2.985528e+07  2.985528e+07   \n",
       "2              0.0  2.984215e+07  2.984215e+07  2.984215e+07  2.984215e+07   \n",
       "3              0.0  2.991377e+07  2.991377e+07  2.991377e+07  2.991377e+07   \n",
       "4              0.0  2.981470e+07  2.981470e+07  2.981470e+07  2.981470e+07   \n",
       "...            ...           ...           ...           ...           ...   \n",
       "123112         0.0  0.000000e+00  0.000000e+00  0.000000e+00  0.000000e+00   \n",
       "123113         0.0  0.000000e+00  0.000000e+00  0.000000e+00  0.000000e+00   \n",
       "123114         0.0  0.000000e+00  0.000000e+00  0.000000e+00  0.000000e+00   \n",
       "123115         0.0  0.000000e+00  0.000000e+00  0.000000e+00  0.000000e+00   \n",
       "123116         0.0  0.000000e+00  0.000000e+00  0.000000e+00  0.000000e+00   \n",
       "\n",
       "        idle.std  fwd_init_window_size  bwd_init_window_size  \\\n",
       "0            0.0                 64240                 26847   \n",
       "1            0.0                 64240                 26847   \n",
       "2            0.0                 64240                 26847   \n",
       "3            0.0                 64240                 26847   \n",
       "4            0.0                 64240                 26847   \n",
       "...          ...                   ...                   ...   \n",
       "123112       0.0                  1024                     0   \n",
       "123113       0.0                  1024                     0   \n",
       "123114       0.0                  1024                     0   \n",
       "123115       0.0                  1024                     0   \n",
       "123116       0.0                  1024                     0   \n",
       "\n",
       "        fwd_last_window_size          Attack_type  \n",
       "0                        502         MQTT_Publish  \n",
       "1                        502         MQTT_Publish  \n",
       "2                        502         MQTT_Publish  \n",
       "3                        502         MQTT_Publish  \n",
       "4                        502         MQTT_Publish  \n",
       "...                      ...                  ...  \n",
       "123112                  1024  NMAP_XMAS_TREE_SCAN  \n",
       "123113                  1024  NMAP_XMAS_TREE_SCAN  \n",
       "123114                  1024  NMAP_XMAS_TREE_SCAN  \n",
       "123115                  1024  NMAP_XMAS_TREE_SCAN  \n",
       "123116                  1024  NMAP_XMAS_TREE_SCAN  \n",
       "\n",
       "[121780 rows x 85 columns]"
      ]
     },
     "execution_count": 41,
     "metadata": {},
     "output_type": "execute_result"
    }
   ],
   "source": [
    "df = df_outlier_free\n",
    "df"
   ]
  },
  {
   "cell_type": "markdown",
   "id": "c97ddc02",
   "metadata": {},
   "source": [
    "### Feature Creation"
   ]
  },
  {
   "cell_type": "code",
   "execution_count": 1,
   "id": "f401db99",
   "metadata": {},
   "outputs": [
    {
     "ename": "NameError",
     "evalue": "name 'df' is not defined",
     "output_type": "error",
     "traceback": [
      "\u001b[1;31m---------------------------------------------------------------------------\u001b[0m",
      "\u001b[1;31mNameError\u001b[0m                                 Traceback (most recent call last)",
      "Cell \u001b[1;32mIn[1], line 20\u001b[0m\n\u001b[0;32m      8\u001b[0m attack_patterns \u001b[38;5;241m=\u001b[39m [\n\u001b[0;32m      9\u001b[0m     \u001b[38;5;124m'\u001b[39m\u001b[38;5;124mARP_poisioning\u001b[39m\u001b[38;5;124m'\u001b[39m,  \n\u001b[0;32m     10\u001b[0m     \u001b[38;5;124m'\u001b[39m\u001b[38;5;124mDDOS_Slowloris\u001b[39m\u001b[38;5;124m'\u001b[39m,\n\u001b[1;32m   (...)\u001b[0m\n\u001b[0;32m     17\u001b[0m     \u001b[38;5;124m'\u001b[39m\u001b[38;5;124mNMAP_XMAS_TREE_SCAN\u001b[39m\u001b[38;5;124m'\u001b[39m\n\u001b[0;32m     18\u001b[0m ]\n\u001b[0;32m     19\u001b[0m \u001b[38;5;66;03m# Categorize each record\u001b[39;00m\n\u001b[1;32m---> 20\u001b[0m df[\u001b[38;5;124m'\u001b[39m\u001b[38;5;124mPattern_Type\u001b[39m\u001b[38;5;124m'\u001b[39m] \u001b[38;5;241m=\u001b[39m df[\u001b[38;5;124m'\u001b[39m\u001b[38;5;124mAttack_type\u001b[39m\u001b[38;5;124m'\u001b[39m]\u001b[38;5;241m.\u001b[39mapply(\u001b[38;5;28;01mlambda\u001b[39;00m x: \u001b[38;5;124m'\u001b[39m\u001b[38;5;124mNormal\u001b[39m\u001b[38;5;124m'\u001b[39m \u001b[38;5;28;01mif\u001b[39;00m x \u001b[38;5;129;01min\u001b[39;00m normal_patterns \u001b[38;5;28;01melse\u001b[39;00m \u001b[38;5;124m'\u001b[39m\u001b[38;5;124mAttack\u001b[39m\u001b[38;5;124m'\u001b[39m)\n",
      "\u001b[1;31mNameError\u001b[0m: name 'df' is not defined"
     ]
    }
   ],
   "source": [
    "# Creating pattern type feature, that contains normal and attack patterns\n",
    "normal_patterns = [\n",
    "    'MQTT_Publish',  \n",
    "    'Thing_Speak',\n",
    "    'Wipro_bulb'\n",
    "]\n",
    "\n",
    "attack_patterns = [\n",
    "    'ARP_poisioning',  \n",
    "    'DDOS_Slowloris',\n",
    "    'DOS_SYN_Hping',\n",
    "    'Metasploit_Brute_Force_SSH',\n",
    "    'NMAP_FIN_SCAN',\n",
    "    'NMAP_OS_DETECTION',\n",
    "    'NMAP_TCP_scan',\n",
    "    'NMAP_UDP_SCAN',\n",
    "    'NMAP_XMAS_TREE_SCAN'\n",
    "]\n",
    "# Categorize each record\n",
    "df['Pattern_Type'] = df['Attack_type'].apply(lambda x: 'Normal' if x in normal_patterns else 'Attack')"
   ]
  },
  {
   "cell_type": "markdown",
   "id": "89ac8475",
   "metadata": {},
   "source": [
    "### Data Encoding"
   ]
  },
  {
   "cell_type": "markdown",
   "id": "bfb46294",
   "metadata": {},
   "source": [
    "first find all the unique value of all the object type attributes"
   ]
  },
  {
   "cell_type": "code",
   "execution_count": 43,
   "id": "a344272a",
   "metadata": {},
   "outputs": [
    {
     "data": {
      "text/plain": [
       "array(['MQTT_Publish', 'Thing_Speak', 'Wipro_bulb', 'ARP_poisioning',\n",
       "       'DDOS_Slowloris', 'DOS_SYN_Hping', 'Metasploit_Brute_Force_SSH',\n",
       "       'NMAP_FIN_SCAN', 'NMAP_OS_DETECTION', 'NMAP_TCP_scan',\n",
       "       'NMAP_UDP_SCAN', 'NMAP_XMAS_TREE_SCAN'], dtype=object)"
      ]
     },
     "execution_count": 43,
     "metadata": {},
     "output_type": "execute_result"
    }
   ],
   "source": [
    "df['Attack_type'].unique()# list of unique values in 'Attack_type' column"
   ]
  },
  {
   "cell_type": "code",
   "execution_count": 44,
   "id": "2615e7d0",
   "metadata": {},
   "outputs": [
    {
     "data": {
      "text/plain": [
       "array(['mqtt', '-', 'http', 'dns', 'ntp', 'ssl', 'dhcp', 'irc', 'ssh',\n",
       "       'radius'], dtype=object)"
      ]
     },
     "execution_count": 44,
     "metadata": {},
     "output_type": "execute_result"
    }
   ],
   "source": [
    "df['service'].unique()# list of unique values in 'Service' column"
   ]
  },
  {
   "cell_type": "code",
   "execution_count": 45,
   "id": "d26b6c59",
   "metadata": {},
   "outputs": [
    {
     "data": {
      "text/plain": [
       "array(['tcp', 'udp', 'icmp'], dtype=object)"
      ]
     },
     "execution_count": 45,
     "metadata": {},
     "output_type": "execute_result"
    }
   ],
   "source": [
    "df['proto'].unique()# list of unique values in 'Protocol' column"
   ]
  },
  {
   "cell_type": "code",
   "execution_count": 46,
   "id": "333295ee",
   "metadata": {},
   "outputs": [
    {
     "data": {
      "text/plain": [
       "array(['Normal', 'Attack'], dtype=object)"
      ]
     },
     "execution_count": 46,
     "metadata": {},
     "output_type": "execute_result"
    }
   ],
   "source": [
    "df['Pattern_Type'].unique()# list of unique values in 'Pattern_Type' column"
   ]
  },
  {
   "cell_type": "markdown",
   "id": "1d7d95a9",
   "metadata": {},
   "source": [
    "Encoding all the object type attribute to integers, so they are readable by the model for parameter training.  \n",
    "\n",
    "I used predefined dictionaries for encoding.\n",
    "\n",
    "###### mapping \"Attack_Type\" attribute to integers"
   ]
  },
  {
   "cell_type": "code",
   "execution_count": 47,
   "id": "5696d00f",
   "metadata": {},
   "outputs": [],
   "source": [
    "dic = {'MQTT_Publish':1,'Thing_Speak':2,'Wipro_bulb':3,'ARP_poisioning':4,'DDOS_Slowloris':5,'DOS_SYN_Hping':6,'Metasploit_Brute_Force_SSH':7,'NMAP_FIN_SCAN':8,'NMAP_OS_DETECTION':9,'NMAP_TCP_scan':10,'NMAP_UDP_SCAN':11,'NMAP_XMAS_TREE_SCAN':12}\n",
    "df['Attack_type'] = df['Attack_type'].map(dic)"
   ]
  },
  {
   "cell_type": "code",
   "execution_count": 48,
   "id": "fa1f1002",
   "metadata": {},
   "outputs": [
    {
     "data": {
      "text/plain": [
       "Attack_type\n",
       "6     93886\n",
       "2      7999\n",
       "4      7520\n",
       "1      4092\n",
       "11     2570\n",
       "12     1995\n",
       "9      1987\n",
       "10      990\n",
       "5       482\n",
       "3       204\n",
       "7        36\n",
       "8        19\n",
       "Name: count, dtype: int64"
      ]
     },
     "execution_count": 48,
     "metadata": {},
     "output_type": "execute_result"
    }
   ],
   "source": [
    "df['Attack_type'].value_counts()# Ocurrences of each unique value in 'Attack_type' column"
   ]
  },
  {
   "cell_type": "markdown",
   "id": "b4c96373",
   "metadata": {},
   "source": [
    "###### mapping \"service\" column to integers"
   ]
  },
  {
   "cell_type": "code",
   "execution_count": 49,
   "id": "f68dab65",
   "metadata": {},
   "outputs": [],
   "source": [
    "dic={'mqtt':1,'-':0,'http':2,'dns':3,'ntp':4,'ssl':5,'dhcp':6,'irc':7,'ssh':8,'radius':9}\n",
    "df['service']=df['service'].map(dic)"
   ]
  },
  {
   "cell_type": "code",
   "execution_count": 50,
   "id": "4b27b6c4",
   "metadata": {},
   "outputs": [
    {
     "data": {
      "text/plain": [
       "service\n",
       "0    101890\n",
       "3      9693\n",
       "1      4081\n",
       "2      3358\n",
       "5      2533\n",
       "4       117\n",
       "6        40\n",
       "7        38\n",
       "8        28\n",
       "9         2\n",
       "Name: count, dtype: int64"
      ]
     },
     "execution_count": 50,
     "metadata": {},
     "output_type": "execute_result"
    }
   ],
   "source": [
    "df['service'].value_counts()# Ocurrences of each unique value in 'service' column"
   ]
  },
  {
   "cell_type": "markdown",
   "id": "8c99dc86",
   "metadata": {},
   "source": [
    "###### mapping \"protocol\" column to integers"
   ]
  },
  {
   "cell_type": "code",
   "execution_count": 51,
   "id": "54d4f4d6",
   "metadata": {},
   "outputs": [],
   "source": [
    "dic = {'tcp':0,'udp':1,'icmp':2}\n",
    "df['proto'] = df['proto'].map(dic)"
   ]
  },
  {
   "cell_type": "code",
   "execution_count": 52,
   "id": "44742a5e",
   "metadata": {},
   "outputs": [
    {
     "data": {
      "text/plain": [
       "proto\n",
       "0    109253\n",
       "1     12486\n",
       "2        41\n",
       "Name: count, dtype: int64"
      ]
     },
     "execution_count": 52,
     "metadata": {},
     "output_type": "execute_result"
    }
   ],
   "source": [
    "df['proto'].value_counts()# Ocurrences of each unique value in 'proto' column"
   ]
  },
  {
   "cell_type": "markdown",
   "id": "8383b6f2",
   "metadata": {},
   "source": [
    "###### mapping \"Pattern_type\" column to integers"
   ]
  },
  {
   "cell_type": "code",
   "execution_count": 53,
   "id": "5b0cb488",
   "metadata": {},
   "outputs": [],
   "source": [
    "dic = {'Normal':0,'Attack':1}\n",
    "df['Pattern_Type'] = df['Pattern_Type'].map(dic)"
   ]
  },
  {
   "cell_type": "code",
   "execution_count": 54,
   "id": "502712f5",
   "metadata": {},
   "outputs": [
    {
     "data": {
      "text/plain": [
       "Pattern_Type\n",
       "1    109485\n",
       "0     12295\n",
       "Name: count, dtype: int64"
      ]
     },
     "execution_count": 54,
     "metadata": {},
     "output_type": "execute_result"
    }
   ],
   "source": [
    "df['Pattern_Type'].value_counts()# Ocurrences of each unique value in 'Pattern_Type' colum"
   ]
  },
  {
   "cell_type": "markdown",
   "id": "1357c7cf",
   "metadata": {},
   "source": [
    "### Dimensionality Reduction\n",
    "1. using correlation  analysis \n",
    "2. uisng Principal component analysis (PCA)"
   ]
  },
  {
   "cell_type": "markdown",
   "id": "a7bf9767",
   "metadata": {},
   "source": [
    "#### Correlation Analysis"
   ]
  },
  {
   "cell_type": "code",
   "execution_count": 55,
   "id": "f632b9a8",
   "metadata": {},
   "outputs": [
    {
     "name": "stdout",
     "output_type": "stream",
     "text": [
      "Removed zero variance features: ['bwd_URG_flag_count']\n"
     ]
    }
   ],
   "source": [
    "#Remove zero variance features to prevent from getting NAN correlation values\n",
    "zero_variance_features = [col for col in df.columns if df[col].var() == 0]\n",
    "df = df.drop(columns=zero_variance_features)\n",
    "print(\"Removed zero variance features:\", zero_variance_features)\n",
    "\n",
    "#compute correlations \n",
    "correlation = df.corr(method='pearson')\n"
   ]
  },
  {
   "cell_type": "code",
   "execution_count": null,
   "id": "84cca2a8",
   "metadata": {},
   "outputs": [],
   "source": [
    "#Drawing heatmap of correaltions values\n",
    "plt.figure(figsize=(20, 20))\n",
    "sns.heatmap(correlation, annot=False, cmap='PuBuGn')\n",
    "plt.title(\"Correlation Heatmap\")\n",
    "Correlation_grah_path = '../images/preprocessing/Correlation_grah.png'\n",
    "plt.savefig(Correlation_grah_path, dpi=600, bbox_inches='tight')\n",
    "plt.show()"
   ]
  },
  {
   "cell_type": "markdown",
   "id": "8a5327ac",
   "metadata": {},
   "source": [
    "since it is difficult to get the exact values from heatmap, I sorted the based on their correlation vlaues to desplay feature with high correaltion"
   ]
  },
  {
   "cell_type": "code",
   "execution_count": null,
   "id": "052f6a1b",
   "metadata": {},
   "outputs": [],
   "source": [
    "# Display top N correlations\n",
    "corr_unstacked = correlation.unstack().reset_index()\n",
    "corr_unstacked.columns = ['Variable1', 'Variable2', 'Correlation']\n",
    "corr_unstacked = corr_unstacked[corr_unstacked['Variable1'] != corr_unstacked['Variable2']]\n",
    "corr_sorted = corr_unstacked.sort_values(by='Correlation', ascending=False)\n",
    "top_n = 10  # for now it will display N= 10 value but we can adjust the number of correlations we want to display\n",
    "corr_sorted"
   ]
  },
  {
   "cell_type": "markdown",
   "id": "ce7c1a61",
   "metadata": {},
   "source": [
    "### Feature Reduction based on Correation Analysis"
   ]
  },
  {
   "cell_type": "markdown",
   "id": "55f5ed08",
   "metadata": {},
   "source": [
    "To reduce multiple collinearities and redundancies I find the optimal correlation threshould value. to find the optimal threshold based on the highest reduction in features between two consecutive thresholds,(between 0.5 and 1.0 with 0.1 steps)"
   ]
  },
  {
   "cell_type": "code",
   "execution_count": 70,
   "id": "757fd060",
   "metadata": {
    "scrolled": false
   },
   "outputs": [
    {
     "name": "stdout",
     "output_type": "stream",
     "text": [
      "Threshold: 0.5, Features to drop: 68, Features remaining: 17\n",
      "Threshold: 0.6, Features to drop: 60, Features remaining: 25\n",
      "Threshold: 0.7, Features to drop: 55, Features remaining: 30\n",
      "Threshold: 0.7999999999999999, Features to drop: 41, Features remaining: 44\n",
      "Threshold: 0.8999999999999999, Features to drop: 32, Features remaining: 53\n",
      "Threshold: 0.9999999999999999, Features to drop: 0, Features remaining: 85\n",
      "Threshold: 1.0999999999999999, Features to drop: 0, Features remaining: 85\n"
     ]
    },
    {
     "data": {
      "image/png": "[encoded data removed]",
      "text/plain": [
       "<Figure size 1000x600 with 1 Axes>"
      ]
     },
     "metadata": {},
     "output_type": "display_data"
    },
    {
     "name": "stdout",
     "output_type": "stream",
     "text": [
      "Optimal threshold: 0.8999999999999999\n",
      "Number of features to retain at optimal threshold: 53\n"
     ]
    }
   ],
   "source": [
    "# a method to find the optimal correlation threshould value for feature reduction\n",
    "def find_high_threshold_for_dimensionality_reduction(correlation, initial_threshold=0.50, final_threshold=1.00, step=0.1):\n",
    "    thresholds = np.arange(initial_threshold, final_threshold + step, step)\n",
    "\n",
    "    #intializing lists to store the thresholds and thier corresponding remaining features\n",
    "    thresholds_list = []\n",
    "    features_remaining_list = []\n",
    "\n",
    "    for threshold in thresholds:\n",
    "        upper = correlation.where(np.triu(np.ones(correlation.shape), k=1).astype(bool))\n",
    "        \n",
    "        # Identify columns to drop based on the threshold\n",
    "        to_drop = [column for column in upper.columns if any(upper[column].abs() > threshold)]\n",
    "        \n",
    "        # Calculate the number of features remaining after dropping\n",
    "        num_features_remaining = len(correlation.columns) - len(to_drop)\n",
    "\n",
    "        thresholds_list.append(threshold)\n",
    "        features_remaining_list.append(num_features_remaining)\n",
    "        \n",
    "        print(f\"Threshold: {threshold}, Features to drop: {len(to_drop)}, Features remaining: {num_features_remaining}\")\n",
    "    \n",
    "    # Calculate the reduction in the number of features between consecutive thresholds\n",
    "    reductions = np.diff(features_remaining_list)\n",
    "    \n",
    "    # Find the threshold with the highest reduction\n",
    "    max_reduction_index = np.argmax(reductions)\n",
    "    optimal_threshold = thresholds[max_reduction_index]  # Select the lower threshold in case of ties\n",
    "    optimal_num_features = features_remaining_list[max_reduction_index]\n",
    "    \n",
    "    # Visualization\n",
    "    plt.figure(figsize=(10, 6))\n",
    "    plt.plot(thresholds_list, features_remaining_list, marker='o')\n",
    "    plt.axvline(x=optimal_threshold, color='r', linestyle='--', label=f'Optimal Threshold: {optimal_threshold}')\n",
    "    plt.xlabel('Correlation Threshold')\n",
    "    plt.ylabel('Number of Features Remaining')\n",
    "    plt.title('Correlation Threshold vs Number of Features Remaining')\n",
    "    plt.legend()\n",
    "    plt.grid(True)\n",
    "    plt.xlim(initial_threshold, final_threshold)  \n",
    "    #saving the image another analysis\n",
    "    Corr_optimal_threshold_path = '../images/preprocessing/Corr_optimal_threshold.png'\n",
    "    plt.savefig(Corr_optimal_threshold_path, dpi=600, bbox_inches='tight')\n",
    "    plt.show()\n",
    "    \n",
    "    return optimal_threshold, optimal_num_features\n",
    "\n",
    "\n",
    "# Calling the \"find_high_threshold_for_dimensionality_reduction\" method to get the optimal threshold value for dimensionality reduction\n",
    "optimal_threshold, optimal_num_features = find_high_threshold_for_dimensionality_reduction(correlation)\n",
    "print(f'Optimal threshold: {optimal_threshold}')\n",
    "print(f'Number of features to retain at optimal threshold: {optimal_num_features}')"
   ]
  },
  {
   "cell_type": "markdown",
   "id": "db48ded3",
   "metadata": {},
   "source": [
    "After getting an optimal threshold value which is \"0.8999999999999999\", I applied this threshold for feature reduction and obtained a dataframe only with 53 features."
   ]
  },
  {
   "cell_type": "code",
   "execution_count": 71,
   "id": "d38a7794",
   "metadata": {},
   "outputs": [
    {
     "name": "stdout",
     "output_type": "stream",
     "text": [
      "Shape of dataset: (121780, 85)\n",
      "Shape of df_reduced: (121780, 53)\n"
     ]
    }
   ],
   "source": [
    "# Remove Highly Correlated Features based on the \"optimal threshold\" value calculated above\n",
    "threshold = optimal_threshold\n",
    "upper = correlation.where(np.triu(np.ones(correlation.shape), k=1).astype(bool))\n",
    "to_drop = [column for column in upper.columns if any(upper[column].abs() > threshold)]\n",
    "df_reduced_by_corr = df.drop(columns=to_drop)\n",
    "print(\"Shape of dataset:\", df.shape)\n",
    "print(\"Shape of df_reduced:\", df_reduced_by_corr.shape)"
   ]
  },
  {
   "cell_type": "markdown",
   "id": "339c212c",
   "metadata": {},
   "source": [
    "### Splitting Data into Features and Target"
   ]
  },
  {
   "cell_type": "markdown",
   "id": "b8f3f573",
   "metadata": {},
   "source": [
    "The dataframe df is splited before and after feature reduction using correlation. This allows for a comparison of the dataset with and without the reduction of features based on correlation."
   ]
  },
  {
   "cell_type": "code",
   "execution_count": 75,
   "id": "2694948d",
   "metadata": {},
   "outputs": [
    {
     "name": "stdout",
     "output_type": "stream",
     "text": [
      "Shape of dataset: (121780, 85)\n",
      "Shape of X_corr_reduced: (121780, 52)\n",
      "Shape of X_features After outlier removal: (121780, 84)\n",
      "Shape of y_features After outlier removal: (121780, 84)\n"
     ]
    }
   ],
   "source": [
    "#Spliting dataframe after feature reduction by correlation, the numberof features are reduced in to 53\n",
    " Split the DataFrame after feature reduction by correlation\n",
    "X_corr_reduced = df_reduced_by_corr.drop('Pattern_Type', axis=1)\n",
    "y = df_reduced_by_corr['Pattern_Type']\n",
    "print(\"Shape of dataset:\", df.shape)\n",
    "print(\"Shape of X_corr_reduced:\", X_corr_reduced.shape)\n",
    "\n",
    "# Splitting the original dataframe before feature redution, with number of features are 85\n",
    "X = df.drop('Pattern_Type', axis=1)\n",
    "y = df['Pattern_Type']\n",
    "print(\"Shape of X_features After outlier removal:\", X.shape)\n",
    "print(\"Shape of y_features After outlier removal:\", X.shape)"
   ]
  },
  {
   "cell_type": "markdown",
   "id": "8f051be8",
   "metadata": {},
   "source": [
    "### Principal Component Analysis(PCA)\n",
    "To apply PCA, we need to set a percentage of variance to retain. In this case, retaining 99% of the variance has been found to be optimal"
   ]
  },
  {
   "cell_type": "code",
   "execution_count": 76,
   "id": "fa17386e",
   "metadata": {},
   "outputs": [
    {
     "name": "stdout",
     "output_type": "stream",
     "text": [
      "Optimal threshold: 0.99\n",
      "Number of components to retain 99.00% variance: 37\n"
     ]
    },
    {
     "data": {
      "image/png": "[encoded data removed]",
      "text/plain": [
       "<Figure size 1000x600 with 1 Axes>"
      ]
     },
     "metadata": {},
     "output_type": "display_data"
    }
   ],
   "source": [
    "# Scaling\n",
    "scaler = StandardScaler()\n",
    "X_scaled = scaler.fit_transform(X_corr_reduced)\n",
    "\n",
    "#Initializing PCA\n",
    "pca = PCA()\n",
    "pca.fit(X_scaled)\n",
    "\n",
    "# Explained variance ratio\n",
    "explained_variance_ratio = pca.explained_variance_ratio_\n",
    "cumulative_explained_variance = np.cumsum(explained_variance_ratio)\n",
    "\n",
    "# Define a range of thresholds from 80% to 100% in increments of 1%\n",
    "thresholds = np.arange(0.8, 1.01, 0.01)\n",
    "optimal_threshold = 0.8\n",
    "optimal_num_components = np.argmax(cumulative_explained_variance >= optimal_threshold) + 1\n",
    "\n",
    "# Finding optimal threshold based on diminishing returns\n",
    "# Loop through each threshold to find the one that retains the highest variance with the least components\n",
    "for threshold in thresholds:\n",
    "    num_components = np.argmax(cumulative_explained_variance >= threshold) + 1\n",
    "    if num_components > optimal_num_components:\n",
    "        optimal_threshold = threshold\n",
    "        optimal_num_components = num_components\n",
    "\n",
    "print(f'Optimal threshold: {optimal_threshold:.2f}')\n",
    "print(f'Number of components to retain {optimal_threshold*100:.2f}% variance: {optimal_num_components}')\n",
    "\n",
    "# Plotting with optimal threshold\n",
    "plt.figure(figsize=(10, 6))\n",
    "plt.plot(range(1, len(explained_variance_ratio) + 1), cumulative_explained_variance, marker='o', linestyle='--', label='Cumulative Explained Variance')\n",
    "plt.xlabel('Number of Principal Components')\n",
    "plt.ylabel('Cumulative Explained Variance')\n",
    "plt.title('Explained Variance vs Number of Principal Components')\n",
    "plt.axhline(y=optimal_threshold, color='r', linestyle='-')\n",
    "plt.axvline(x=optimal_num_components, color='r', linestyle='--')\n",
    "plt.text(optimal_num_components + 1, 0.5, f'{optimal_num_components} components', color='green', fontsize=12)\n",
    "plt.legend()\n",
    "plt.grid()\n",
    "\n",
    "# Save the plot as an image file\n",
    "PCA_grah_path = '../images/preprocessing/PCA_grah.png'\n",
    "plt.savefig(PCA_grah_path, dpi=600, bbox_inches='tight')\n",
    "\n",
    "# Display the plot\n",
    "plt.show()"
   ]
  },
  {
   "cell_type": "markdown",
   "id": "f5e5dff6",
   "metadata": {},
   "source": [
    "### Feature reduction based on Principal Component Analysis (PCA)\n",
    "After calculating optimal threshold=0.99, which corresponds to retaining 99.00% of the variance with 37 components, I applied PCA for feature reduction by setting `n_components=0.99` to retain 99% of the variance."
   ]
  },
  {
   "cell_type": "code",
   "execution_count": 78,
   "id": "361d9fbb",
   "metadata": {},
   "outputs": [
    {
     "name": "stdout",
     "output_type": "stream",
     "text": [
      "Shape of dataset: (121780, 85)\n",
      "Shape of X_corr_reduced: (121780, 52)\n",
      "Shape of X_pca: (121780, 37)\n"
     ]
    }
   ],
   "source": [
    "# applying  PCA for feature reduction\n",
    "pca = PCA(n_components=0.99)  # Retain 99% of the variance\n",
    "X_pca = pca.fit_transform(X_scaled)\n",
    "\n",
    "print(\"Shape of dataset:\", df.shape)\n",
    "print(\"Shape of X_corr_reduced:\", X_corr_reduced.shape)\n",
    "print(\"Shape of X_pca:\", X_pca.shape)\n"
   ]
  },
  {
   "cell_type": "markdown",
   "id": "3c0c60a0",
   "metadata": {},
   "source": [
    "### Splitting Dataset into Training and Test Sets"
   ]
  },
  {
   "cell_type": "code",
   "execution_count": null,
   "id": "9de92350",
   "metadata": {},
   "outputs": [],
   "source": [
    "# Split dataset into training and testing sets using Holdout method with 80% to 20%\n",
    "# Split X and y (after outlier removal)\n",
    "X_train, X_test, y_train, y_test = train_test_split(X, y, test_size=0.2, random_state=42)\n",
    "\n",
    "# Split X_corr_reduced and y (after reducing features using correlation threshold)\n",
    "X_corr_train, X_corr_test, y_corr_train, y_corr_test = train_test_split(X_corr_reduced, y, test_size=0.2, random_state=42)\n",
    "\n",
    "# Split X_pca and y (after reducing features using correlation threshold and PCA)\n",
    "X_pca_train, X_pca_test, y_pca_train, y_pca_test = train_test_split(X_pca, y, test_size=0.2, random_state=42)\n",
    "\n",
    "# Check the split sizes\n",
    "print(\"After outlier removal:\")\n",
    "print(\"Shape of X_train:\", X_train.shape)\n",
    "print(\"Shape of X_test:\", X_test.shape)\n",
    "print(\"Shape of y_train:\", y_train.shape)\n",
    "print(\"Shape of y_test:\", y_test.shape)\n",
    "print(\"\\n\")\n",
    "print(\"After feature removal using correlation threshold:\")\n",
    "print(\"Shape of X_corr_train:\", X_corr_train.shape)\n",
    "print(\"Shape of X_corr_test:\", X_corr_test.shape)\n",
    "print(\"Shape of y_corr_train:\", y_corr_train.shape)\n",
    "print(\"Shape of y_corr_test:\", y_corr_test.shape) \n",
    "print(\"\\n\")\n",
    "print(\"After feature removal using correlation threshold and PCA:\")\n",
    "print(\"Shape of X_pca_train:\", X_pca_train.shape)\n",
    "print(\"Shape of X_pca_test:\", X_pca_test.shape)\n",
    "print(\"Shape of y_pca_train:\", y_pca_train.shape)\n",
    "print(\"Shape of y_pca_test:\", y_pca_test.shape)\n",
    "print(\"\\n\")\n",
    "\n",
    "# paths where the test sets should be stores  \n",
    "X_test_path = '../dataset/X_test.csv'\n",
    "y_test_path = '../dataset/y_test.csv'\n",
    "X_corr_test_path = '../dataset/X_corr_test.csv'\n",
    "y_corr_test_path = '../dataset/y_corr_test.csv'\n",
    "X_pca_test_path = '../dataset/X_pca_test.csv'\n",
    "y_pca_test_path = '../dataset/y_pca_test.csv'\n",
    "\n",
    "# Convert to dataframe before saving \n",
    "X_test_df = pd.DataFrame(X_test)\n",
    "y_test_df = pd.DataFrame(y_test)\n",
    "X_corr_test_df = pd.DataFrame(X_corr_test)\n",
    "y_corr_test_df = pd.DataFrame(y_corr_test)\n",
    "X_pca_test_df = pd.DataFrame(X_pca_test)\n",
    "y_pca_test_df = pd.DataFrame(y_pca_test)\n",
    "\n",
    "#Saving the test sets for furhter usage\n",
    "X_test_df.to_csv(X_test_path, index=False)\n",
    "y_test_df.to_csv(y_test_path, index=False)\n",
    "X_corr_test_df.to_csv(X_corr_test_path, index=False)\n",
    "y_corr_test_df.to_csv(y_corr_test_path, index=False)\n",
    "X_pca_test_df.to_csv(X_pca_test_path, index=False)\n",
    "y_pca_test_df.to_csv(y_pca_test_path, index=False)\n",
    "\n"
   ]
  },
  {
   "cell_type": "markdown",
   "id": "b935a157",
   "metadata": {},
   "source": [
    "# Balancing Training Data using SMOTE"
   ]
  },
  {
   "cell_type": "markdown",
   "id": "a482670d",
   "metadata": {},
   "source": [
    "Balancing the data set by SMOTE, oversampling the minority class (0) to match the number of samples in class (1). This improves performance of classification models by enssuring that the model doesn't become biased towards the majority class (1).\n",
    "\n",
    "I applied SMOTE to the traning sets from differente preprocessing stages:\n",
    "1. To the training sets splited before any feature reduction is applied, with only outlier removal.\n",
    "2. To the training sets splited after feature reduction using correlation.\n",
    "3. To the training sets splited after feature reduction using correlation and PCA."
   ]
  },
  {
   "cell_type": "code",
   "execution_count": null,
   "id": "9be0959f",
   "metadata": {},
   "outputs": [],
   "source": [
    "# Applying SMOTE to balance the training set before any feature reduction is applied\n",
    "sampler = SMOTE(random_state=42)\n",
    "X_train_balanced, y_train_balanced = sampler.fit_resample(X_train, y_train)\n",
    "\n",
    "# Print the shape and class distribution for verification of SMOTE effectiveness\n",
    "print(\"Shape of X_train_balanced:\", X_train_balanced.shape)\n",
    "print(\"Shape of y_train_balanced:\", y_train_balanced.shape)\n",
    "print(\"Class distribution before SMOTE:\", y_train.value_counts().to_dict())\n",
    "print(\"Class distribution after SMOTE:\", pd.Series(y_train_balanced).value_counts().to_dict())\n",
    "\n",
    "# Save the balanced datasets in to CVS files for later use\n",
    "X_train_balanced_path = '../dataset/X_train_balanced.csv'\n",
    "y_train_balanced_path = '../dataset/y_train_balanced.csv'\n",
    "\n",
    "# Convert to DataFrame if necessary before saving\n",
    "X_train_balanced_df = pd.DataFrame(X_train_balanced)\n",
    "y_train_balanced_df = pd.DataFrame(y_train_balanced)\n",
    "\n",
    "# Save to CSV\n",
    "X_train_balanced_df.to_csv(X_train_balanced_path, index=False)\n",
    "y_train_balanced_df.to_csv(y_train_balanced_path, index=False)\n",
    "\n",
    "# Plotting the data before and after applying SMOTE to visualize the effect of balancing\n",
    "plt.figure(figsize=(12, 6))\n",
    "\n",
    "# Original data before SMOTE applied\n",
    "plt.subplot(1, 2, 1)\n",
    "plt.title(\"Before SMOTE\")\n",
    "plt.scatter(X_train.iloc[:, 0], X_train.iloc[:, 1], c=y_train, cmap='viridis', edgecolor='k', s=25)\n",
    "\n",
    "# Balanced data after SMOTE applied\n",
    "plt.subplot(1, 2, 2)\n",
    "plt.title(\"After SMOTE\")\n",
    "plt.scatter(X_train_balanced.iloc[:, 0], X_train_balanced.iloc[:, 1], c=y_train_balanced, cmap='viridis', edgecolor='k', s=25)\n",
    "\n",
    "plt.tight_layout()\n",
    "smote_after_outlier_path = '../images/preprocessing/smote_after_outlier.png'\n",
    "plt.savefig(smote_after_outlier_path, dpi=600, bbox_inches='tight')\n",
    "\n",
    "plt.show()\n"
   ]
  },
  {
   "cell_type": "code",
   "execution_count": null,
   "id": "b8c48e39",
   "metadata": {},
   "outputs": [],
   "source": [
    "# Applying SMOTE to balance the training set after feature reduction by correlation \n",
    "sampler = SMOTE(random_state=42)\n",
    "X_corr_train_balanced, y_corr_train_balanced = sampler.fit_resample(X_corr_train, y_corr_train)\n",
    "\n",
    "\n",
    "# Save the balanced datasets\n",
    "X_corr_train_balanced_path = '../dataset/X_corr_train_balanced.csv'\n",
    "y_corr_train_balanced_path = '../dataset/y_corr_train_balanced.csv'\n",
    "\n",
    "# Convert to DataFrame if necessary before saving\n",
    "X_corr_train_balanced_df = pd.DataFrame(X_corr_train_balanced)\n",
    "y_corr_train_balanced_df = pd.DataFrame(y_corr_train_balanced)\n",
    "\n",
    "# Save to CSV\n",
    "X_corr_train_balanced_df.to_csv(X_corr_train_balanced_path, index=False)\n",
    "y_corr_train_balanced_df.to_csv(y_corr_train_balanced_path, index=False)\n",
    "\n",
    "# Print the shape and class distribution for verification of SMOTE effectiveness\n",
    "print(\"Shape of X_corr_train_balanced:\", X_corr_train_balanced.shape)\n",
    "print(\"Shape of y_corr_train_balanced:\", y_corr_train_balanced.shape)\n",
    "print(\"Class distribution before SMOTE:\", y_corr_train.value_counts().to_dict())\n",
    "print(\"Class distribution after SMOTE:\", pd.Series(y_corr_train_balanced).value_counts().to_dict())\n",
    "\n",
    "# Plotting the data before and after applying SMOTE to visualize the effect of balancing\n",
    "plt.figure(figsize=(12, 6))\n",
    "\n",
    "# Original data before SMOTE applied\n",
    "plt.subplot(1, 2, 1)\n",
    "plt.title(\"Before SMOTE\")\n",
    "plt.scatter(X_train.iloc[:, 0], X_train.iloc[:, 1], c=y_train, cmap='viridis', edgecolor='k', s=25)\n",
    "\n",
    "# Balanced data after SMOTE applied\n",
    "plt.subplot(1, 2, 2)\n",
    "plt.title(\"After SMOTE\")\n",
    "plt.scatter(X_train_balanced.iloc[:, 0], X_train_balanced.iloc[:, 1], c=y_train_balanced, cmap='viridis', edgecolor='k', s=25)\n",
    "\n",
    "plt.tight_layout()\n",
    "smote_after_correlation_path = '../images/preprocessing/smote_after_correlation.png'\n",
    "plt.savefig(smote_after_correlation_path, dpi=600, bbox_inches='tight')\n",
    "plt.show()"
   ]
  },
  {
   "cell_type": "code",
   "execution_count": null,
   "id": "fff1d82b",
   "metadata": {
    "scrolled": false
   },
   "outputs": [],
   "source": [
    "# Applying SMOTE to balnce training set after feature reduction by correaltion and PCA\n",
    "sampler = SMOTE(random_state=42)\n",
    "X_pca_train_balanced, y_pca_train_balanced = sampler.fit_resample(X_pca_train, y_pca_train)\n",
    "\n",
    "# Save the balanced datasets\n",
    "X_pca_train_balanced_path = '../dataset/X_pca_train_balanced.csv'\n",
    "y_pca_train_balanced_path = '../dataset/y_pca_train_balanced.csv'\n",
    "\n",
    "# Convert to DataFrame if necessary before saving\n",
    "X_pca_train_balanced_df = pd.DataFrame(X_pca_train_balanced)\n",
    "y_pca_train_balanced_df = pd.DataFrame(y_pca_train_balanced)\n",
    "\n",
    "# Save to CSV\n",
    "X_pca_train_balanced_df.to_csv(X_pca_train_balanced_path, index=False)\n",
    "y_pca_train_balanced_df.to_csv(y_pca_train_balanced_path, index=False)\n",
    "\n",
    "# Print the shape and class distribution for verification of SMOTE effectiveness\n",
    "print(\"Shape of X_pca_train_balanced:\", X_pca_train_balanced.shape)\n",
    "print(\"Shape of y_pca_train_balanced:\", y_pca_train_balanced.shape)\n",
    "print(\"Class distribution before SMOTE:\", y_pca_train.value_counts().to_dict())\n",
    "print(\"Class distribution after SMOTE:\", pd.Series(y_pca_train_balanced).value_counts().to_dict())\n",
    "\n",
    "\n",
    "# Plotting the data before and after applying SMOTE to visualize the effect of balancing\n",
    "plt.figure(figsize=(12, 6))\n",
    "\n",
    "# Original data before SMOTE applied\n",
    "plt.subplot(1, 2, 1)\n",
    "plt.title(\"Before SMOTE\")\n",
    "plt.scatter(X_pca_train[:, 0], X_pca_train[:, 1], c=y_pca_train, cmap='viridis', edgecolor='k', s=25)\n",
    "\n",
    "# Balanced data/ after SMOTE applied\n",
    "plt.subplot(1, 2, 2)\n",
    "plt.title(\"After SMOTE\")\n",
    "plt.scatter(X_pca_train_balanced[:, 0], X_pca_train_balanced[:, 1], c=y_pca_train_balanced, cmap='viridis', edgecolor='k', s=25)\n",
    "\n",
    "plt.tight_layout()\n",
    "smote_after_pca_path = '../images/preprocessing/SMOTE_after_PCA.png'\n",
    "plt.savefig(smote_after_pca_path, dpi=600, bbox_inches='tight')\n",
    "plt.show()\n",
    "\n"
   ]
  },
  {
   "cell_type": "markdown",
   "id": "b0551b54",
   "metadata": {},
   "source": [
    "###  Navigation\n",
    "- [Table of Contents](../Table_of_contents.ipynb)\n",
    "- [Data Preparation and Exploration](../Data_exploration/Data_Exploration.ipynb)\n",
    "- [Data Preprocessing](#2.-Data-Preprocessing)\n",
    "- [Model Development](../conf/list_of_models.ipynb)\n",
    "- [Model Selection and Performance Evaluation](../conf/list_of_performance_evaluations.ipynb)"
   ]
  },
  {
   "cell_type": "code",
   "execution_count": null,
   "id": "54b1ac27",
   "metadata": {},
   "outputs": [],
   "source": []
  }
 ],
 "metadata": {
  "kernelspec": {
   "display_name": "Python 3 (ipykernel)",
   "language": "python",
   "name": "python3"
  },
  "language_info": {
   "codemirror_mode": {
    "name": "ipython",
    "version": 3
   },
   "file_extension": ".py",
   "mimetype": "text/x-python",
   "name": "python",
   "nbconvert_exporter": "python",
   "pygments_lexer": "ipython3",
   "version": "3.11.5"
  },
  "varInspector": {
   "cols": {
    "lenName": 16,
    "lenType": 16,
    "lenVar": 40
   },
   "kernels_config": {
    "python": {
     "delete_cmd_postfix": "",
     "delete_cmd_prefix": "del ",
     "library": "var_list.py",
     "varRefreshCmd": "print(var_dic_list())"
    },
    "r": {
     "delete_cmd_postfix": ") ",
     "delete_cmd_prefix": "rm(",
     "library": "var_list.r",
     "varRefreshCmd": "cat(var_dic_list()) "
    }
   },
   "types_to_exclude": [
    "module",
    "function",
    "builtin_function_or_method",
    "instance",
    "_Feature"
   ],
   "window_display": false
  }
 },
 "nbformat": 4,
 "nbformat_minor": 5
}
